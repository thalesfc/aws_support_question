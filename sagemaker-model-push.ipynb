{
 "cells": [
  {
   "cell_type": "code",
   "execution_count": 1,
   "id": "914f14e0-efb6-4092-bc45-7950381fb7d5",
   "metadata": {},
   "outputs": [
    {
     "data": {
      "text/plain": [
       "'637423572524.dkr.ecr.us-west-2.amazonaws.com/donut:latest'"
      ]
     },
     "execution_count": 1,
     "metadata": {},
     "output_type": "execute_result"
    }
   ],
   "source": [
    "import pprint\n",
    "import boto3\n",
    "\n",
    "inference_algorithm_name=\"donut\"\n",
    "\n",
    "pp = pprint.PrettyPrinter(indent=1)\n",
    "\n",
    "sm_boto3 = boto3.client(\"sagemaker\")\n",
    "\n",
    "region = boto3.Session().region_name\n",
    "account_id = boto3.client(\"sts\").get_caller_identity()[\"Account\"]\n",
    "\n",
    "image_uri_inference = (\n",
    "    f\"{account_id}.dkr.ecr.{region}.amazonaws.com/{inference_algorithm_name}:latest\"\n",
    ")\n",
    "image_uri_inference"
   ]
  },
  {
   "cell_type": "code",
   "execution_count": 6,
   "id": "e661cf5a-abf9-48cf-8af7-c585c863fa74",
   "metadata": {},
   "outputs": [
    {
     "name": "stdout",
     "output_type": "stream",
     "text": [
      "Instance type = local\n"
     ]
    }
   ],
   "source": [
    "# CHECK if GPUs are available and set the corresponding \"instance_type\"\n",
    "import os\n",
    "import subprocess\n",
    "\n",
    "instance_type_local = \"local\"\n",
    "\n",
    "# if subprocess.call(\"nvidia-smi\") == 0:\n",
    "#     ## Set type to GPU if one is present\n",
    "#     instance_type_local = \"local_gpu\"\n",
    "\n",
    "print(\"Instance type = \" + instance_type_local)"
   ]
  },
  {
   "cell_type": "code",
   "execution_count": 7,
   "id": "1e655f13-b266-4590-8861-eaaf522eb42e",
   "metadata": {},
   "outputs": [
    {
     "name": "stderr",
     "output_type": "stream",
     "text": [
      "Windows Support for Local Mode is Experimental\n"
     ]
    },
    {
     "name": "stdout",
     "output_type": "stream",
     "text": [
      "<class 'sagemaker.local.local_session.LocalSession'>\n"
     ]
    },
    {
     "name": "stderr",
     "output_type": "stream",
     "text": [
      "Couldn't call 'get_role' to get Role ARN from role name arn:aws:iam::637423572524:root to get Role path.\n"
     ]
    },
    {
     "ename": "ValueError",
     "evalue": "The current AWS identity is not a role: arn:aws:iam::637423572524:root, therefore it cannot be used as a SageMaker execution role",
     "output_type": "error",
     "traceback": [
      "\u001b[1;31m---------------------------------------------------------------------------\u001b[0m",
      "\u001b[1;31mValueError\u001b[0m                                Traceback (most recent call last)",
      "Cell \u001b[1;32mIn[7], line 10\u001b[0m\n\u001b[0;32m      6\u001b[0m \u001b[38;5;28mprint\u001b[39m(\u001b[38;5;28mtype\u001b[39m(session_local))\n\u001b[0;32m      8\u001b[0m \u001b[38;5;28;01mfrom\u001b[39;00m \u001b[38;5;21;01msagemaker\u001b[39;00m \u001b[38;5;28;01mimport\u001b[39;00m get_execution_role\n\u001b[1;32m---> 10\u001b[0m role \u001b[38;5;241m=\u001b[39m \u001b[43mget_execution_role\u001b[49m\u001b[43m(\u001b[49m\u001b[43m)\u001b[49m\n",
      "File \u001b[1;32m~\\AppData\\Local\\Packages\\PythonSoftwareFoundation.Python.3.12_qbz5n2kfra8p0\\LocalCache\\local-packages\\Python312\\site-packages\\sagemaker\\session.py:6968\u001b[0m, in \u001b[0;36mget_execution_role\u001b[1;34m(sagemaker_session, use_default)\u001b[0m\n\u001b[0;32m   6962\u001b[0m     \u001b[38;5;28;01mreturn\u001b[39;00m iam_client\u001b[38;5;241m.\u001b[39mget_role(RoleName\u001b[38;5;241m=\u001b[39mdefault_role_name)[\u001b[38;5;124m\"\u001b[39m\u001b[38;5;124mRole\u001b[39m\u001b[38;5;124m\"\u001b[39m][\u001b[38;5;124m\"\u001b[39m\u001b[38;5;124mArn\u001b[39m\u001b[38;5;124m\"\u001b[39m]\n\u001b[0;32m   6964\u001b[0m message \u001b[38;5;241m=\u001b[39m (\n\u001b[0;32m   6965\u001b[0m     \u001b[38;5;124m\"\u001b[39m\u001b[38;5;124mThe current AWS identity is not a role: \u001b[39m\u001b[38;5;132;01m{}\u001b[39;00m\u001b[38;5;124m, therefore it cannot be used as a \u001b[39m\u001b[38;5;124m\"\u001b[39m\n\u001b[0;32m   6966\u001b[0m     \u001b[38;5;124m\"\u001b[39m\u001b[38;5;124mSageMaker execution role\u001b[39m\u001b[38;5;124m\"\u001b[39m\n\u001b[0;32m   6967\u001b[0m )\n\u001b[1;32m-> 6968\u001b[0m \u001b[38;5;28;01mraise\u001b[39;00m \u001b[38;5;167;01mValueError\u001b[39;00m(message\u001b[38;5;241m.\u001b[39mformat(arn))\n",
      "\u001b[1;31mValueError\u001b[0m: The current AWS identity is not a role: arn:aws:iam::637423572524:root, therefore it cannot be used as a SageMaker execution role"
     ]
    }
   ],
   "source": [
    "import sagemaker\n",
    "from sagemaker.local import LocalSession\n",
    "\n",
    "session_local = LocalSession()\n",
    "session_local.config = {instance_type_local: {\"local_code\": True}}\n",
    "print(type(session_local))\n",
    "\n",
    "from sagemaker import get_execution_role\n",
    "\n",
    "role = get_execution_role()"
   ]
  }
 ],
 "metadata": {
  "kernelspec": {
   "display_name": "Python 3 (ipykernel)",
   "language": "python",
   "name": "python3"
  },
  "language_info": {
   "codemirror_mode": {
    "name": "ipython",
    "version": 3
   },
   "file_extension": ".py",
   "mimetype": "text/x-python",
   "name": "python",
   "nbconvert_exporter": "python",
   "pygments_lexer": "ipython3",
   "version": "3.12.2"
  }
 },
 "nbformat": 4,
 "nbformat_minor": 5
}
